{
  "nbformat": 4,
  "nbformat_minor": 0,
  "metadata": {
    "colab": {
      "provenance": []
    },
    "kernelspec": {
      "name": "python3",
      "display_name": "Python 3"
    },
    "language_info": {
      "name": "python"
    }
  },
  "cells": [
    {
      "cell_type": "markdown",
      "source": [
        "QN1)\n",
        "Write a Python program to create a tuple with different data types."
      ],
      "metadata": {
        "id": "PJ5IfpRSMK5E"
      }
    },
    {
      "cell_type": "code",
      "execution_count": 1,
      "metadata": {
        "colab": {
          "base_uri": "https://localhost:8080/"
        },
        "id": "Xd3UzwxTL_aw",
        "outputId": "d737a79a-7453-4851-fa83-49019202867e"
      },
      "outputs": [
        {
          "output_type": "stream",
          "name": "stdout",
          "text": [
            "('tuple', False, 3.2, 1)\n"
          ]
        }
      ],
      "source": [
        "tuples = (\"tuple\", False, 3.2, 1)\n",
        "print(tuples)"
      ]
    },
    {
      "cell_type": "markdown",
      "source": [
        " QN2)Write a Python program to convert a list of tuples into a dictionary.\n",
        "\n",
        ""
      ],
      "metadata": {
        "id": "h-bVjBkGMYgl"
      }
    },
    {
      "cell_type": "code",
      "source": [
        "l = [(\"x\", 1), (\"x\", 2), (\"x\", 3), (\"y\", 1), (\"y\", 2), (\"z\", 1)]\n",
        "d = {}\n",
        "for a, b in l:\n",
        "    d.setdefault(a, []).append(b)\n",
        "print(d)\n"
      ],
      "metadata": {
        "colab": {
          "base_uri": "https://localhost:8080/"
        },
        "id": "29v4RSKdNFLR",
        "outputId": "896b766b-51ca-4c2d-eb7b-d878e6d54eb1"
      },
      "execution_count": 6,
      "outputs": [
        {
          "output_type": "stream",
          "name": "stdout",
          "text": [
            "{'x': [1, 2, 3], 'y': [1, 2], 'z': [1]}\n"
          ]
        }
      ]
    },
    {
      "cell_type": "markdown",
      "source": [
        "QN 3)\n",
        "Write a Python program to remove an item from a tuple"
      ],
      "metadata": {
        "id": "CeuvVlyDNTfg"
      }
    },
    {
      "cell_type": "code",
      "source": [
        "\n",
        "tuplex = \"D\", 7, \"H\", \"I\", \"Y\", \"A\", \"N\", \"D\", \"H\"\n",
        "print(tuplex)\n",
        "\n",
        "tuplex = tuplex[:2] + tuplex[3:]\n",
        "print(tuplex)\n",
        "listx = list(tuplex)\n",
        "listx.remove(\"I\")\n",
        "tuplex = tuple(listx)\n",
        "print(tuplex)\n"
      ],
      "metadata": {
        "colab": {
          "base_uri": "https://localhost:8080/"
        },
        "id": "fJk2bPlsNOKj",
        "outputId": "27ddd85b-e889-448c-e6a7-600f3ab6c3b6"
      },
      "execution_count": 10,
      "outputs": [
        {
          "output_type": "stream",
          "name": "stdout",
          "text": [
            "('D', 7, 'H', 'I', 'Y', 'A', 'N', 'D', 'H')\n",
            "('D', 7, 'I', 'Y', 'A', 'N', 'D', 'H')\n",
            "('D', 7, 'Y', 'A', 'N', 'D', 'H')\n"
          ]
        }
      ]
    },
    {
      "cell_type": "code",
      "source": [],
      "metadata": {
        "id": "rvUBeJehOiWE"
      },
      "execution_count": null,
      "outputs": []
    }
  ]
}